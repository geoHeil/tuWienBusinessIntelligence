{
 "cells": [
  {
   "cell_type": "markdown",
   "metadata": {},
   "source": [
    "# manual retry\n",
    "WARNING:\n",
    "https://github.com/IRkernel/IRkernel needs to be installed"
   ]
  },
  {
   "cell_type": "code",
   "execution_count": 1,
   "metadata": {
    "collapsed": false
   },
   "outputs": [
    {
     "name": "stderr",
     "output_type": "stream",
     "text": [
      "/home/stevie/Develop/anaconda3/lib/python3.5/site-packages/sklearn/cross_validation.py:44: DeprecationWarning: This module was deprecated in version 0.18 in favor of the model_selection module into which all the refactored classes and functions are moved. Also note that the interface of the new CV iterators are different from that of this module. This module will be removed in 0.20.\n",
      "  \"This module will be removed in 0.20.\", DeprecationWarning)\n"
     ]
    }
   ],
   "source": [
    "import numpy as np\n",
    "import pandas as pd\n",
    "\n",
    "import matplotlib.pyplot as plt\n",
    "import pprint\n",
    "from sklearn.pipeline import Pipeline\n",
    "\n",
    "import utils\n",
    "import skutils\n",
    "from sklearn.preprocessing import StandardScaler, MinMaxScaler, RobustScaler\n",
    "from sklearn.model_selection import StratifiedShuffleSplit, cross_val_score\n",
    "from sklearn.metrics import classification_report\n",
    "from sklearn.linear_model import LogisticRegression\n",
    "from sklearn.ensemble import RandomForestClassifier\n",
    "\n",
    "gSeed = 47\n",
    "\n",
    "# Use ggplot style\n",
    "plt.style.use('ggplot')\n",
    "\n",
    "%matplotlib inline"
   ]
  },
  {
   "cell_type": "code",
   "execution_count": 2,
   "metadata": {
    "collapsed": true
   },
   "outputs": [],
   "source": [
    "big = pd.read_csv('train.csv')\n",
    "#test = pd.read_csv('test.csv')\n",
    "\n",
    "big.species = big.species.astype('category')\n",
    "big.species = big.species.cat.codes"
   ]
  },
  {
   "cell_type": "code",
   "execution_count": 3,
   "metadata": {
    "collapsed": true
   },
   "outputs": [],
   "source": [
    "def transform(data):\n",
    "    ID = data.id\n",
    "    X = data.drop(['species', 'id'], axis=1)\n",
    "    y = data['species']\n",
    "    return ID, X, y\n",
    "\n",
    "ID, X, y = transform(big)\n",
    "\n",
    "def addZeroColumn(df, colName):\n",
    "    df.loc[df[colName] < 0.01, colName + '_is_small'] = 1\n",
    "    df[colName + '_is_small'].fillna(0, inplace=True)\n",
    "\n",
    "def addZeroColumns(df, colBaseName):\n",
    "    for n in range(1,65):\n",
    "        addZeroColumn(df, colBaseName + str(n))\n",
    "        \n",
    "addZeroColumns(X, 'margin')\n",
    "addZeroColumns(X, 'texture')"
   ]
  },
  {
   "cell_type": "code",
   "execution_count": 4,
   "metadata": {
    "collapsed": false
   },
   "outputs": [
    {
     "ename": "ImportError",
     "evalue": "No module named 'rpy2'",
     "output_type": "error",
     "traceback": [
      "\u001b[0;31m---------------------------------------------------------------------------\u001b[0m",
      "\u001b[0;31mImportError\u001b[0m                               Traceback (most recent call last)",
      "\u001b[0;32m<ipython-input-4-2ef156ebe10c>\u001b[0m in \u001b[0;36m<module>\u001b[0;34m()\u001b[0m\n\u001b[1;32m      1\u001b[0m \u001b[0mget_ipython\u001b[0m\u001b[0;34m(\u001b[0m\u001b[0;34m)\u001b[0m\u001b[0;34m.\u001b[0m\u001b[0mmagic\u001b[0m\u001b[0;34m(\u001b[0m\u001b[0;34m'load_ext autoreload'\u001b[0m\u001b[0;34m)\u001b[0m\u001b[0;34m\u001b[0m\u001b[0m\n\u001b[1;32m      2\u001b[0m \u001b[0mget_ipython\u001b[0m\u001b[0;34m(\u001b[0m\u001b[0;34m)\u001b[0m\u001b[0;34m.\u001b[0m\u001b[0mmagic\u001b[0m\u001b[0;34m(\u001b[0m\u001b[0;34m'autoreload 2'\u001b[0m\u001b[0;34m)\u001b[0m\u001b[0;34m\u001b[0m\u001b[0m\n\u001b[0;32m----> 3\u001b[0;31m \u001b[0mget_ipython\u001b[0m\u001b[0;34m(\u001b[0m\u001b[0;34m)\u001b[0m\u001b[0;34m.\u001b[0m\u001b[0mmagic\u001b[0m\u001b[0;34m(\u001b[0m\u001b[0;34m'load_ext rpy2.ipython'\u001b[0m\u001b[0;34m)\u001b[0m\u001b[0;34m\u001b[0m\u001b[0m\n\u001b[0m",
      "\u001b[0;32m/home/stevie/Develop/anaconda3/lib/python3.5/site-packages/IPython/core/interactiveshell.py\u001b[0m in \u001b[0;36mmagic\u001b[0;34m(self, arg_s)\u001b[0m\n\u001b[1;32m   2156\u001b[0m         \u001b[0mmagic_name\u001b[0m\u001b[0;34m,\u001b[0m \u001b[0m_\u001b[0m\u001b[0;34m,\u001b[0m \u001b[0mmagic_arg_s\u001b[0m \u001b[0;34m=\u001b[0m \u001b[0marg_s\u001b[0m\u001b[0;34m.\u001b[0m\u001b[0mpartition\u001b[0m\u001b[0;34m(\u001b[0m\u001b[0;34m' '\u001b[0m\u001b[0;34m)\u001b[0m\u001b[0;34m\u001b[0m\u001b[0m\n\u001b[1;32m   2157\u001b[0m         \u001b[0mmagic_name\u001b[0m \u001b[0;34m=\u001b[0m \u001b[0mmagic_name\u001b[0m\u001b[0;34m.\u001b[0m\u001b[0mlstrip\u001b[0m\u001b[0;34m(\u001b[0m\u001b[0mprefilter\u001b[0m\u001b[0;34m.\u001b[0m\u001b[0mESC_MAGIC\u001b[0m\u001b[0;34m)\u001b[0m\u001b[0;34m\u001b[0m\u001b[0m\n\u001b[0;32m-> 2158\u001b[0;31m         \u001b[0;32mreturn\u001b[0m \u001b[0mself\u001b[0m\u001b[0;34m.\u001b[0m\u001b[0mrun_line_magic\u001b[0m\u001b[0;34m(\u001b[0m\u001b[0mmagic_name\u001b[0m\u001b[0;34m,\u001b[0m \u001b[0mmagic_arg_s\u001b[0m\u001b[0;34m)\u001b[0m\u001b[0;34m\u001b[0m\u001b[0m\n\u001b[0m\u001b[1;32m   2159\u001b[0m \u001b[0;34m\u001b[0m\u001b[0m\n\u001b[1;32m   2160\u001b[0m     \u001b[0;31m#-------------------------------------------------------------------------\u001b[0m\u001b[0;34m\u001b[0m\u001b[0;34m\u001b[0m\u001b[0m\n",
      "\u001b[0;32m/home/stevie/Develop/anaconda3/lib/python3.5/site-packages/IPython/core/interactiveshell.py\u001b[0m in \u001b[0;36mrun_line_magic\u001b[0;34m(self, magic_name, line)\u001b[0m\n\u001b[1;32m   2077\u001b[0m                 \u001b[0mkwargs\u001b[0m\u001b[0;34m[\u001b[0m\u001b[0;34m'local_ns'\u001b[0m\u001b[0;34m]\u001b[0m \u001b[0;34m=\u001b[0m \u001b[0msys\u001b[0m\u001b[0;34m.\u001b[0m\u001b[0m_getframe\u001b[0m\u001b[0;34m(\u001b[0m\u001b[0mstack_depth\u001b[0m\u001b[0;34m)\u001b[0m\u001b[0;34m.\u001b[0m\u001b[0mf_locals\u001b[0m\u001b[0;34m\u001b[0m\u001b[0m\n\u001b[1;32m   2078\u001b[0m             \u001b[0;32mwith\u001b[0m \u001b[0mself\u001b[0m\u001b[0;34m.\u001b[0m\u001b[0mbuiltin_trap\u001b[0m\u001b[0;34m:\u001b[0m\u001b[0;34m\u001b[0m\u001b[0m\n\u001b[0;32m-> 2079\u001b[0;31m                 \u001b[0mresult\u001b[0m \u001b[0;34m=\u001b[0m \u001b[0mfn\u001b[0m\u001b[0;34m(\u001b[0m\u001b[0;34m*\u001b[0m\u001b[0margs\u001b[0m\u001b[0;34m,\u001b[0m\u001b[0;34m**\u001b[0m\u001b[0mkwargs\u001b[0m\u001b[0;34m)\u001b[0m\u001b[0;34m\u001b[0m\u001b[0m\n\u001b[0m\u001b[1;32m   2080\u001b[0m             \u001b[0;32mreturn\u001b[0m \u001b[0mresult\u001b[0m\u001b[0;34m\u001b[0m\u001b[0m\n\u001b[1;32m   2081\u001b[0m \u001b[0;34m\u001b[0m\u001b[0m\n",
      "\u001b[0;32m<decorator-gen-62>\u001b[0m in \u001b[0;36mload_ext\u001b[0;34m(self, module_str)\u001b[0m\n",
      "\u001b[0;32m/home/stevie/Develop/anaconda3/lib/python3.5/site-packages/IPython/core/magic.py\u001b[0m in \u001b[0;36m<lambda>\u001b[0;34m(f, *a, **k)\u001b[0m\n\u001b[1;32m    186\u001b[0m     \u001b[0;31m# but it's overkill for just that one bit of state.\u001b[0m\u001b[0;34m\u001b[0m\u001b[0;34m\u001b[0m\u001b[0m\n\u001b[1;32m    187\u001b[0m     \u001b[0;32mdef\u001b[0m \u001b[0mmagic_deco\u001b[0m\u001b[0;34m(\u001b[0m\u001b[0marg\u001b[0m\u001b[0;34m)\u001b[0m\u001b[0;34m:\u001b[0m\u001b[0;34m\u001b[0m\u001b[0m\n\u001b[0;32m--> 188\u001b[0;31m         \u001b[0mcall\u001b[0m \u001b[0;34m=\u001b[0m \u001b[0;32mlambda\u001b[0m \u001b[0mf\u001b[0m\u001b[0;34m,\u001b[0m \u001b[0;34m*\u001b[0m\u001b[0ma\u001b[0m\u001b[0;34m,\u001b[0m \u001b[0;34m**\u001b[0m\u001b[0mk\u001b[0m\u001b[0;34m:\u001b[0m \u001b[0mf\u001b[0m\u001b[0;34m(\u001b[0m\u001b[0;34m*\u001b[0m\u001b[0ma\u001b[0m\u001b[0;34m,\u001b[0m \u001b[0;34m**\u001b[0m\u001b[0mk\u001b[0m\u001b[0;34m)\u001b[0m\u001b[0;34m\u001b[0m\u001b[0m\n\u001b[0m\u001b[1;32m    189\u001b[0m \u001b[0;34m\u001b[0m\u001b[0m\n\u001b[1;32m    190\u001b[0m         \u001b[0;32mif\u001b[0m \u001b[0mcallable\u001b[0m\u001b[0;34m(\u001b[0m\u001b[0marg\u001b[0m\u001b[0;34m)\u001b[0m\u001b[0;34m:\u001b[0m\u001b[0;34m\u001b[0m\u001b[0m\n",
      "\u001b[0;32m/home/stevie/Develop/anaconda3/lib/python3.5/site-packages/IPython/core/magics/extension.py\u001b[0m in \u001b[0;36mload_ext\u001b[0;34m(self, module_str)\u001b[0m\n\u001b[1;32m     35\u001b[0m         \u001b[0;32mif\u001b[0m \u001b[0;32mnot\u001b[0m \u001b[0mmodule_str\u001b[0m\u001b[0;34m:\u001b[0m\u001b[0;34m\u001b[0m\u001b[0m\n\u001b[1;32m     36\u001b[0m             \u001b[0;32mraise\u001b[0m \u001b[0mUsageError\u001b[0m\u001b[0;34m(\u001b[0m\u001b[0;34m'Missing module name.'\u001b[0m\u001b[0;34m)\u001b[0m\u001b[0;34m\u001b[0m\u001b[0m\n\u001b[0;32m---> 37\u001b[0;31m         \u001b[0mres\u001b[0m \u001b[0;34m=\u001b[0m \u001b[0mself\u001b[0m\u001b[0;34m.\u001b[0m\u001b[0mshell\u001b[0m\u001b[0;34m.\u001b[0m\u001b[0mextension_manager\u001b[0m\u001b[0;34m.\u001b[0m\u001b[0mload_extension\u001b[0m\u001b[0;34m(\u001b[0m\u001b[0mmodule_str\u001b[0m\u001b[0;34m)\u001b[0m\u001b[0;34m\u001b[0m\u001b[0m\n\u001b[0m\u001b[1;32m     38\u001b[0m \u001b[0;34m\u001b[0m\u001b[0m\n\u001b[1;32m     39\u001b[0m         \u001b[0;32mif\u001b[0m \u001b[0mres\u001b[0m \u001b[0;34m==\u001b[0m \u001b[0;34m'already loaded'\u001b[0m\u001b[0;34m:\u001b[0m\u001b[0;34m\u001b[0m\u001b[0m\n",
      "\u001b[0;32m/home/stevie/Develop/anaconda3/lib/python3.5/site-packages/IPython/core/extensions.py\u001b[0m in \u001b[0;36mload_extension\u001b[0;34m(self, module_str)\u001b[0m\n\u001b[1;32m     81\u001b[0m             \u001b[0;32mif\u001b[0m \u001b[0mmodule_str\u001b[0m \u001b[0;32mnot\u001b[0m \u001b[0;32min\u001b[0m \u001b[0msys\u001b[0m\u001b[0;34m.\u001b[0m\u001b[0mmodules\u001b[0m\u001b[0;34m:\u001b[0m\u001b[0;34m\u001b[0m\u001b[0m\n\u001b[1;32m     82\u001b[0m                 \u001b[0;32mwith\u001b[0m \u001b[0mprepended_to_syspath\u001b[0m\u001b[0;34m(\u001b[0m\u001b[0mself\u001b[0m\u001b[0;34m.\u001b[0m\u001b[0mipython_extension_dir\u001b[0m\u001b[0;34m)\u001b[0m\u001b[0;34m:\u001b[0m\u001b[0;34m\u001b[0m\u001b[0m\n\u001b[0;32m---> 83\u001b[0;31m                     \u001b[0m__import__\u001b[0m\u001b[0;34m(\u001b[0m\u001b[0mmodule_str\u001b[0m\u001b[0;34m)\u001b[0m\u001b[0;34m\u001b[0m\u001b[0m\n\u001b[0m\u001b[1;32m     84\u001b[0m             \u001b[0mmod\u001b[0m \u001b[0;34m=\u001b[0m \u001b[0msys\u001b[0m\u001b[0;34m.\u001b[0m\u001b[0mmodules\u001b[0m\u001b[0;34m[\u001b[0m\u001b[0mmodule_str\u001b[0m\u001b[0;34m]\u001b[0m\u001b[0;34m\u001b[0m\u001b[0m\n\u001b[1;32m     85\u001b[0m             \u001b[0;32mif\u001b[0m \u001b[0mself\u001b[0m\u001b[0;34m.\u001b[0m\u001b[0m_call_load_ipython_extension\u001b[0m\u001b[0;34m(\u001b[0m\u001b[0mmod\u001b[0m\u001b[0;34m)\u001b[0m\u001b[0;34m:\u001b[0m\u001b[0;34m\u001b[0m\u001b[0m\n",
      "\u001b[0;31mImportError\u001b[0m: No module named 'rpy2'"
     ]
    }
   ],
   "source": [
    "%load_ext autoreload\n",
    "%autoreload 2\n",
    "%load_ext rpy2.ipython"
   ]
  },
  {
   "cell_type": "code",
   "execution_count": null,
   "metadata": {
    "collapsed": false
   },
   "outputs": [],
   "source": [
    "%%R \n",
    "# use the R function to create all the same evaluation metrics\n",
    "library(MLmetrics)\n",
    "\n",
    "evaluateModel <- function(data,results) {\n",
    "  # data: real NEVERPAYER column (actual values)\n",
    "  # results: predicted NEVERPAYER column (predicted values)\n",
    "  \n",
    "  confMatrix <- table(data,results)\n",
    "  print(confMatrix)\n",
    "  \n",
    "  err <- (confMatrix[\"J\",\"N\"]+confMatrix[\"N\",\"J\"])/sum(confMatrix)  \n",
    "  acc <- (confMatrix[\"J\",\"J\"]+confMatrix[\"N\",\"N\"])/sum(confMatrix)  \n",
    "  \n",
    "  tpr <- confMatrix[\"J\",\"J\"]/(confMatrix[\"J\",\"J\"]+confMatrix[\"J\",\"N\"]) \n",
    "  tnr <- confMatrix[\"N\",\"N\"]/(confMatrix[\"N\",\"N\"]+confMatrix[\"N\",\"J\"]) \n",
    "  \n",
    "  ppv <- confMatrix[\"J\",\"J\"]/(confMatrix[\"J\",\"J\"]+confMatrix[\"N\",\"J\"]) \n",
    "  npv <- confMatrix[\"N\",\"N\"]/(confMatrix[\"N\",\"N\"]+confMatrix[\"J\",\"N\"]) \n",
    "  \n",
    "  fpr <- confMatrix[\"N\",\"J\"]/(confMatrix[\"N\",\"N\"]+confMatrix[\"N\",\"J\"]) \n",
    "  fnr <- confMatrix[\"J\",\"N\"]/(confMatrix[\"J\",\"J\"]+confMatrix[\"J\",\"N\"]) \n",
    "  \n",
    "  rpp <- (confMatrix[\"J\",\"J\"]+confMatrix[\"N\",\"J\"])/sum(confMatrix) \n",
    "  rnp <- (confMatrix[\"J\",\"J\"]+confMatrix[\"J\",\"N\"])/sum(confMatrix) \n",
    "    \n",
    "  kappa <- vcd::Kappa(confMatrix)\n",
    "  kappa <- kappa$Unweighted[1]\n",
    "  names(kappa) <- c(\"kappa\") \n",
    "  \n",
    "  lift <- tpr/rpp\n",
    "  \n",
    "  names(err) <- c(\"Error rate\")\n",
    "  names(acc) <- c(\"Accuracy\")\n",
    "  names(tpr) <- c(\"Sensitivity (true positives rate)\")\n",
    "  names(tnr) <- c(\"Specificity (true negatives rate)\")\n",
    "  names(ppv) <- c(\"Precision J\")\n",
    "  names(npv) <- c(\"Precision N\")\n",
    "  names(fpr) <- c(\"False positive rate\")\n",
    "  names(fnr) <- c(\"False negative rate\")\n",
    "  names(rpp) <- c(\"Rate of positive predictions\")\n",
    "  names(rnp) <- c(\"Rate of negative predictions\")\n",
    "  names(lift) <- c(\"Lift value\")\n",
    "\n",
    "  results <- list(err,acc,tpr,tnr,ppv,npv,fpr,fnr,rpp,rnp,lift, kappa)\n",
    "  results\n",
    "}\n",
    "\n",
    "evaluateAllTheThings <- function(groundTruth, prediction){\n",
    "    f1 <- MLmetrics::F1_Score(y_pred = prediction, y_true = groundTruth)\n",
    "    auc <- MLmetrics::AUC(y_pred = prediction, y_true = groundTruth)\n",
    "    names(f1) <- c(\"f1_R\") \n",
    "    names(auc) <- c(\"AUC_R\")\n",
    "\n",
    "    predictionJN <- ifelse(prediction == 0,\"N\",\"J\")\n",
    "    groundTruthJN <- ifelse(groundTruth == 0,\"N\",\"J\")\n",
    "\n",
    "    evalA <- evaluateModel(groundTruthJN,predictionJN)\n",
    "    \n",
    "    index <- length(evalA)+1\n",
    "\n",
    "    evalA[[index]] <- f1\n",
    "    evalA[[index+1]] <- auc\n",
    "    \n",
    "    evalA\n",
    "}"
   ]
  },
  {
   "cell_type": "code",
   "execution_count": null,
   "metadata": {
    "collapsed": true
   },
   "outputs": [],
   "source": [
    "def to_str(val):\n",
    "    return str(val).split('\"')[1]\n",
    "\n",
    "\n",
    "def flatten_dict(d, prefix='__'):\n",
    "    def items():\n",
    "        for key, value in d.items():\n",
    "            if isinstance(value, dict):\n",
    "                for sub_key, sub_value in flatten_dict(value).items():\n",
    "                    yield sub_key, sub_value\n",
    "            else:\n",
    "                yield key, value\n",
    "\n",
    "    return dict(items())\n",
    "\n",
    "\n",
    "class Observation():\n",
    "    def __init__(self):\n",
    "        self.statValues = {}\n",
    "        self.modelName = \"\"\n",
    "\n",
    "    def setModelName(self, nameOfModel):\n",
    "        self.modelName = nameOfModel\n",
    "\n",
    "    def addStatMetric(self, metricName, metricValue):\n",
    "        self.statValues[metricName] = metricValue\n",
    "\n",
    "def evalSingleModel(X, y_test, clf, modelName, variant, _verbose):\n",
    "    y_predicted = clf.predict(X)\n",
    "\n",
    "    if(_verbose):\n",
    "        print(classification_report(y_test, y_predicted))\n",
    "    # send the data to R\n",
    "    groundTruth = y_test.values\n",
    "\n",
    "    %Rpush groundTruth\n",
    "    %Rpush y_predicted\n",
    "    %R res <- evaluateAllTheThings(groundTruth, y_predicted)\n",
    "    %Rpull res\n",
    "    statsResults = dict([[to_str(j.names),j[0]] for i,j in enumerate(res)])\n",
    "    obs = Observation()\n",
    "    obs.setModelName(modelName + '-' + variant)\n",
    "    \n",
    "    for _kpi, value in statsResults.items():\n",
    "        obs.addStatMetric(_kpi, value)\n",
    "        \n",
    "    obs.addStatMetric('typeOfRun', variant)\n",
    "    if(_verbose):\n",
    "        pp = pprint.PrettyPrinter(indent=4)\n",
    "        pp.pprint(statsResults)\n",
    "    return obs\n",
    "\n",
    "def splitOffValidation(X, y, _seed):\n",
    "    split = StratifiedShuffleSplit(n_splits=1, test_size=0.3, random_state=_seed)\n",
    "    for train_index, test_index in split.split(X, y):\n",
    "        X_work = X.iloc[train_index]\n",
    "        X_validation = X.iloc[test_index]\n",
    "        y_work = y.iloc[train_index]\n",
    "        y_validation = y.iloc[test_index]\n",
    "    return X_work, X_validation, y_work, y_validation\n",
    "\n",
    "def evaluateCV(X, y, pipeline, labelData,allResultsOfModels,_seed, _verbose=True):\n",
    "    X_work, X_validation, y_work, y_validation = splitOffValidation(X, y, _seed)\n",
    "    ##############################################################\n",
    "    ### Train /Test\n",
    "    split = StratifiedShuffleSplit(n_splits=5, test_size=0.2, random_state=_seed)\n",
    "    foldCounter = 0\n",
    "    for train_index, test_index in split.split(X_work, y_work):\n",
    "        foldCounter += 1\n",
    "        if _verbose:\n",
    "            print(\"###################### Training Fold: \", foldCounter, \" #################\")\n",
    "        if _verbose:\n",
    "            print(\"TRAIN:\", train_index)\n",
    "            print(\"TEST:\", test_index)\n",
    "        X_train = X_work.iloc[train_index]\n",
    "        X_test = X_work.iloc[test_index]\n",
    "        \n",
    "        y_train = y_work.iloc[train_index]\n",
    "        y_test = y_work.iloc[test_index]\n",
    "        X_validationCopy = X_validation.copy()\n",
    "    \n",
    "        pipeline.fit(X_train, y_train)\n",
    "\n",
    "        allResultsOfModels.append(evalSingleModel(X_test, y_test, pipeline, labelData + '_' + str(foldCounter), 'training', _verbose))\n",
    "    #############################################################\n",
    "    ### Evaluation on validation set\n",
    "    \n",
    "    if _verbose:\n",
    "        print(\"###################### Validation #################\")\n",
    "    \n",
    "    pipeline.fit(X_work, y_work)\n",
    "    allResultsOfModels.append(evalSingleModel(X_validation, y_validation, pipeline, labelData, 'validation', _verbose))\n",
    "    \n",
    "allResultsOfModels = []"
   ]
  },
  {
   "cell_type": "code",
   "execution_count": null,
   "metadata": {
    "collapsed": false
   },
   "outputs": [],
   "source": [
    "from sklearn.svm import SVC"
   ]
  },
  {
   "cell_type": "code",
   "execution_count": null,
   "metadata": {
    "collapsed": false
   },
   "outputs": [],
   "source": [
    "clf = RandomForestClassifier(n_estimators=10, n_jobs=-1)\n",
    "evaluateCV(X, y, clf, '01_rf10', allResultsOfModels, gSeed)\n",
    "\n",
    "clf = RandomForestClassifier(n_estimators=100, n_jobs=-1)\n",
    "evaluateCV(X, y, clf, '01_rf100', allResultsOfModels, gSeed)\n",
    "\n",
    "clf = RandomForestClassifier(n_estimators=500, n_jobs=-1)\n",
    "evaluateCV(X, y, clf, '01_rf1000', allResultsOfModels, gSeed)\n",
    "\n",
    "clf = SVC()\n",
    "evaluateCV(X, y, clf, '01_rf', allResultsOfModels, gSeed)"
   ]
  },
  {
   "cell_type": "code",
   "execution_count": null,
   "metadata": {
    "collapsed": false
   },
   "outputs": [],
   "source": [
    "# komisch - das crasht bei mir\n",
    "#clf = LogisticRegression(solver='lbfgs', multi_class='multinomial', n_jobs=-1)\n",
    "#evaluateCV(X, y, clf, '02_lr', allResultsOfModels, gSeed)"
   ]
  },
  {
   "cell_type": "code",
   "execution_count": null,
   "metadata": {
    "collapsed": false
   },
   "outputs": [],
   "source": [
    "results = []\n",
    "for res in allResultsOfModels:\n",
    "    results.append(res.__dict__)\n",
    "\n",
    "l = list(map(flatten_dict, results))\n",
    "results = pd.DataFrame.from_dict(l)"
   ]
  },
  {
   "cell_type": "code",
   "execution_count": null,
   "metadata": {
    "collapsed": false
   },
   "outputs": [],
   "source": [
    "train_res = results[results.typeOfRun != 'validation']\n",
    "overview = train_res.groupby([train_res.modelName.str.split('_').str[1]]).describe().unstack(\n",
    "    fill_value=0).loc[:,\n",
    "           pd.IndexSlice[:, ['mean', 'std']]]#[['kappa', 'Lift value', 'False positive rate', 'False negative rate']]\n",
    "overview.columns = ['{0[0]}_{0[1]}'.format(tup) for tup in overview.columns]\n",
    "overview.sort_values('kappa_mean', ascending=False)"
   ]
  },
  {
   "cell_type": "code",
   "execution_count": null,
   "metadata": {
    "collapsed": true
   },
   "outputs": [],
   "source": []
  }
 ],
 "metadata": {
  "anaconda-cloud": {},
  "kernelspec": {
   "display_name": "Python [default]",
   "language": "python",
   "name": "python3"
  },
  "language_info": {
   "codemirror_mode": {
    "name": "ipython",
    "version": 3
   },
   "file_extension": ".py",
   "mimetype": "text/x-python",
   "name": "python",
   "nbconvert_exporter": "python",
   "pygments_lexer": "ipython3",
   "version": "3.5.2"
  }
 },
 "nbformat": 4,
 "nbformat_minor": 1
}
