{
 "cells": [
  {
   "cell_type": "code",
   "execution_count": 45,
   "metadata": {
    "collapsed": false
   },
   "outputs": [],
   "source": [
    "import numpy as np\n",
    "import pandas as pd\n",
    "\n",
    "import matplotlib.pyplot as plt\n",
    "\n",
    "import utils\n",
    "import skutils\n",
    "from sklearn.preprocessing import StandardScaler\n",
    "from sklearn.model_selection import StratifiedShuffleSplit, cross_val_score\n",
    "from sklearn.metrics import classification_report\n",
    "from sklearn.linear_model import LogisticRegression\n",
    "\n",
    "seed = 47\n",
    "\n",
    "# Use ggplot style\n",
    "plt.style.use('ggplot')\n",
    "\n",
    "%matplotlib inline"
   ]
  },
  {
   "cell_type": "code",
   "execution_count": 2,
   "metadata": {
    "collapsed": false
   },
   "outputs": [],
   "source": [
    "train = pd.read_csv('train.csv')\n",
    "test = pd.read_csv('test.csv')"
   ]
  },
  {
   "cell_type": "code",
   "execution_count": 35,
   "metadata": {
    "collapsed": false
   },
   "outputs": [],
   "source": [
    "big = train.append(test)\n",
    "big.shape\n",
    "\n",
    "big.species = big.species.astype('category')\n",
    "big.species = big.species.cat.codes\n",
    "\n",
    "# big = pd.get_dummies(big, sparse=True)"
   ]
  },
  {
   "cell_type": "code",
   "execution_count": 36,
   "metadata": {
    "collapsed": false
   },
   "outputs": [],
   "source": [
    "def transform(data):\n",
    "    ID = data.id\n",
    "    X = data.drop(['species', 'id'], axis=1)\n",
    "    y = data['species']\n",
    "    return ID, X, y\n",
    "\n",
    "ID, X, y = transform(big)"
   ]
  },
  {
   "cell_type": "code",
   "execution_count": 37,
   "metadata": {
    "collapsed": false
   },
   "outputs": [],
   "source": [
    "def addZeroColumn(df, colName):\n",
    "    df.loc[df[colName] < 0.01, colName + '_is_small'] = 1\n",
    "    df[colName + '_is_small'].fillna(0, inplace=True)\n",
    "\n",
    "def addZeroColumns(df, colBaseName):\n",
    "    for n in range(1,65):\n",
    "        addZeroColumn(df, colBaseName + str(n))\n",
    "        \n",
    "addZeroColumns(X, 'margin')\n",
    "addZeroColumns(X, 'texture')"
   ]
  },
  {
   "cell_type": "code",
   "execution_count": 101,
   "metadata": {
    "collapsed": false,
    "scrolled": true
   },
   "outputs": [],
   "source": [
    "sss = StratifiedShuffleSplit(19, test_size=0.3, random_state=seed)"
   ]
  },
  {
   "cell_type": "code",
   "execution_count": 104,
   "metadata": {
    "collapsed": false
   },
   "outputs": [],
   "source": [
    "from sklearn.metrics import accuracy_score, precision_score, recall_score, cohen_kappa_score, auc, make_scorer, average_precision_score, f1_score\n",
    "from sklearn.pipeline import Pipeline\n",
    "\n",
    "classifiers = {\n",
    "    \"LR\": { \"f\": Pipeline([\n",
    "                ('scaling', StandardScaler()),\n",
    "                ('estimator', LogisticRegression(solver='lbfgs', multi_class='multinomial', n_jobs=-1))\n",
    "            ]) },\n",
    "    \"RF\": { \"f\": RandomForestClassifier(n_estimators=100, n_jobs=-1) }\n",
    "}   \n",
    "\n",
    "measures = {\n",
    "    'pre': precision_score,\n",
    "    #'avg': average_precision_score,\n",
    "    'rec': recall_score,\n",
    "    'acc': accuracy_score,\n",
    "    'ck': cohen_kappa_score,\n",
    "    'f1': f1_score\n",
    "}\n",
    "\n",
    "for clf in classifiers.keys(): \n",
    "    c = classifiers[clf]   \n",
    "    for meas in measures.keys():\n",
    "        c[meas] = []\n",
    "\n",
    "for train_index, test_index in sss.split(X, y):\n",
    "    \n",
    "    X_train = X.iloc[train_index]\n",
    "    y_train = y.iloc[train_index]\n",
    "    X_test = X.iloc[test_index]\n",
    "    y_test = y.iloc[test_index]\n",
    "            \n",
    "    for clf in classifiers.keys():                    \n",
    "        c = classifiers[clf]    \n",
    "        c[\"f\"].fit(X_train, y_train)\n",
    "        y_pred = c[\"f\"].predict(X_test)\n",
    "        \n",
    "        for meas in measures.keys():\n",
    "            m = measures[meas]\n",
    "            \n",
    "            if (meas != 'ck' and meas != 'acc'):\n",
    "                score = m(y_test, y_pred, average='micro')\n",
    "            else:\n",
    "                score = m(y_test, y_pred)\n",
    "                        \n",
    "            c[meas].append(score);"
   ]
  },
  {
   "cell_type": "code",
   "execution_count": 105,
   "metadata": {
    "collapsed": false,
    "scrolled": false
   },
   "outputs": [
    {
     "data": {
      "text/plain": [
       "{'LR': {'acc': [0.5,\n",
       "   0.52731092436974791,\n",
       "   0.49159663865546216,\n",
       "   0.48949579831932771,\n",
       "   0.48319327731092437,\n",
       "   0.51260504201680668,\n",
       "   0.52521008403361347,\n",
       "   0.50420168067226889,\n",
       "   0.51680672268907568,\n",
       "   0.51050420168067223,\n",
       "   0.47268907563025209,\n",
       "   0.49789915966386555,\n",
       "   0.48529411764705882,\n",
       "   0.47899159663865548,\n",
       "   0.49579831932773111,\n",
       "   0.48109243697478993,\n",
       "   0.49369747899159666,\n",
       "   0.50420168067226889,\n",
       "   0.47058823529411764],\n",
       "  'ck': [0.39289618657692227,\n",
       "   0.4249726177437021,\n",
       "   0.37622111031689298,\n",
       "   0.38992383805565534,\n",
       "   0.37602046253863375,\n",
       "   0.40875896776956833,\n",
       "   0.4341797984473289,\n",
       "   0.40138548438665655,\n",
       "   0.42363173078947913,\n",
       "   0.40954875529717416,\n",
       "   0.36866690621631326,\n",
       "   0.38976977707211369,\n",
       "   0.37855696472343603,\n",
       "   0.37035693712530138,\n",
       "   0.38837134596851919,\n",
       "   0.38160358502871805,\n",
       "   0.39606629182723685,\n",
       "   0.40362277292900972,\n",
       "   0.35106359957585842],\n",
       "  'f': Pipeline(steps=[('scaling', StandardScaler(copy=True, with_mean=True, with_std=True)), ('estimator', LogisticRegression(C=1.0, class_weight=None, dual=False, fit_intercept=True,\n",
       "            intercept_scaling=1, max_iter=100, multi_class='multinomial',\n",
       "            n_jobs=-1, penalty='l2', random_state=None, solver='lbfgs',\n",
       "            tol=0.0001, verbose=0, warm_start=False))]),\n",
       "  'f1': [0.5,\n",
       "   0.52731092436974791,\n",
       "   0.49159663865546216,\n",
       "   0.48949579831932771,\n",
       "   0.48319327731092437,\n",
       "   0.51260504201680668,\n",
       "   0.52521008403361347,\n",
       "   0.50420168067226889,\n",
       "   0.51680672268907568,\n",
       "   0.51050420168067223,\n",
       "   0.47268907563025209,\n",
       "   0.49789915966386555,\n",
       "   0.48529411764705882,\n",
       "   0.47899159663865548,\n",
       "   0.49579831932773111,\n",
       "   0.48109243697478993,\n",
       "   0.49369747899159666,\n",
       "   0.50420168067226889,\n",
       "   0.47058823529411764],\n",
       "  'pre': [0.5,\n",
       "   0.52731092436974791,\n",
       "   0.49159663865546216,\n",
       "   0.48949579831932771,\n",
       "   0.48319327731092437,\n",
       "   0.51260504201680668,\n",
       "   0.52521008403361347,\n",
       "   0.50420168067226889,\n",
       "   0.51680672268907568,\n",
       "   0.51050420168067223,\n",
       "   0.47268907563025209,\n",
       "   0.49789915966386555,\n",
       "   0.48529411764705882,\n",
       "   0.47899159663865548,\n",
       "   0.49579831932773111,\n",
       "   0.48109243697478993,\n",
       "   0.49369747899159666,\n",
       "   0.50420168067226889,\n",
       "   0.47058823529411764],\n",
       "  'rec': [0.5,\n",
       "   0.52731092436974791,\n",
       "   0.49159663865546216,\n",
       "   0.48949579831932771,\n",
       "   0.48319327731092437,\n",
       "   0.51260504201680668,\n",
       "   0.52521008403361347,\n",
       "   0.50420168067226889,\n",
       "   0.51680672268907568,\n",
       "   0.51050420168067223,\n",
       "   0.47268907563025209,\n",
       "   0.49789915966386555,\n",
       "   0.48529411764705882,\n",
       "   0.47899159663865548,\n",
       "   0.49579831932773111,\n",
       "   0.48109243697478993,\n",
       "   0.49369747899159666,\n",
       "   0.50420168067226889,\n",
       "   0.47058823529411764]},\n",
       " 'RF': {'acc': [0.41176470588235292,\n",
       "   0.45588235294117646,\n",
       "   0.45798319327731091,\n",
       "   0.43697478991596639,\n",
       "   0.4264705882352941,\n",
       "   0.44327731092436973,\n",
       "   0.40966386554621848,\n",
       "   0.42857142857142855,\n",
       "   0.44957983193277312,\n",
       "   0.44957983193277312,\n",
       "   0.43697478991596639,\n",
       "   0.44537815126050423,\n",
       "   0.44957983193277312,\n",
       "   0.44747899159663868,\n",
       "   0.42436974789915966,\n",
       "   0.42857142857142855,\n",
       "   0.4327731092436975,\n",
       "   0.46218487394957986,\n",
       "   0.41176470588235292],\n",
       "  'ck': [0.1876935078865889,\n",
       "   0.2682399867043378,\n",
       "   0.26102967723301318,\n",
       "   0.22582837723024629,\n",
       "   0.22136471490544785,\n",
       "   0.23856090788361695,\n",
       "   0.2077380529296089,\n",
       "   0.22257715864056671,\n",
       "   0.23167155425219943,\n",
       "   0.24957277300406755,\n",
       "   0.24986475361637095,\n",
       "   0.25176840450615678,\n",
       "   0.24477387786740312,\n",
       "   0.26764946764946762,\n",
       "   0.21686081421880632,\n",
       "   0.22257715864056704,\n",
       "   0.22992114660978336,\n",
       "   0.2834528989768319,\n",
       "   0.19631443112472569],\n",
       "  'f': RandomForestClassifier(bootstrap=True, class_weight=None, criterion='gini',\n",
       "              max_depth=None, max_features='auto', max_leaf_nodes=None,\n",
       "              min_impurity_split=1e-07, min_samples_leaf=1,\n",
       "              min_samples_split=2, min_weight_fraction_leaf=0.0,\n",
       "              n_estimators=100, n_jobs=-1, oob_score=False,\n",
       "              random_state=None, verbose=0, warm_start=False),\n",
       "  'f1': [0.41176470588235292,\n",
       "   0.45588235294117641,\n",
       "   0.45798319327731091,\n",
       "   0.43697478991596639,\n",
       "   0.4264705882352941,\n",
       "   0.44327731092436973,\n",
       "   0.40966386554621848,\n",
       "   0.42857142857142855,\n",
       "   0.44957983193277312,\n",
       "   0.44957983193277312,\n",
       "   0.43697478991596639,\n",
       "   0.44537815126050428,\n",
       "   0.44957983193277312,\n",
       "   0.44747899159663868,\n",
       "   0.42436974789915966,\n",
       "   0.42857142857142855,\n",
       "   0.4327731092436975,\n",
       "   0.46218487394957986,\n",
       "   0.41176470588235292],\n",
       "  'pre': [0.41176470588235292,\n",
       "   0.45588235294117646,\n",
       "   0.45798319327731091,\n",
       "   0.43697478991596639,\n",
       "   0.4264705882352941,\n",
       "   0.44327731092436973,\n",
       "   0.40966386554621848,\n",
       "   0.42857142857142855,\n",
       "   0.44957983193277312,\n",
       "   0.44957983193277312,\n",
       "   0.43697478991596639,\n",
       "   0.44537815126050423,\n",
       "   0.44957983193277312,\n",
       "   0.44747899159663868,\n",
       "   0.42436974789915966,\n",
       "   0.42857142857142855,\n",
       "   0.4327731092436975,\n",
       "   0.46218487394957986,\n",
       "   0.41176470588235292],\n",
       "  'rec': [0.41176470588235292,\n",
       "   0.45588235294117646,\n",
       "   0.45798319327731091,\n",
       "   0.43697478991596639,\n",
       "   0.4264705882352941,\n",
       "   0.44327731092436973,\n",
       "   0.40966386554621848,\n",
       "   0.42857142857142855,\n",
       "   0.44957983193277312,\n",
       "   0.44957983193277312,\n",
       "   0.43697478991596639,\n",
       "   0.44537815126050423,\n",
       "   0.44957983193277312,\n",
       "   0.44747899159663868,\n",
       "   0.42436974789915966,\n",
       "   0.42857142857142855,\n",
       "   0.4327731092436975,\n",
       "   0.46218487394957986,\n",
       "   0.41176470588235292]}}"
      ]
     },
     "execution_count": 105,
     "metadata": {},
     "output_type": "execute_result"
    }
   ],
   "source": [
    "classifiers"
   ]
  },
  {
   "cell_type": "code",
   "execution_count": 110,
   "metadata": {
    "collapsed": false
   },
   "outputs": [
    {
     "ename": "TypeError",
     "evalue": "Singleton array 0.43730650154798761 cannot be considered a valid collection.",
     "output_type": "error",
     "traceback": [
      "\u001b[0;31m---------------------------------------------------------------------------\u001b[0m",
      "\u001b[0;31mTypeError\u001b[0m                                 Traceback (most recent call last)",
      "\u001b[0;32m<ipython-input-110-d930d46ebeca>\u001b[0m in \u001b[0;36m<module>\u001b[0;34m()\u001b[0m\n\u001b[1;32m      3\u001b[0m \u001b[0;31m# Evaluate each model in classifiers\u001b[0m\u001b[0;34m\u001b[0m\u001b[0;34m\u001b[0m\u001b[0m\n\u001b[1;32m      4\u001b[0m \u001b[0;32mfor\u001b[0m \u001b[0mmodel\u001b[0m \u001b[0;32min\u001b[0m \u001b[0mclassifiers\u001b[0m\u001b[0;34m.\u001b[0m\u001b[0mkeys\u001b[0m\u001b[0;34m(\u001b[0m\u001b[0;34m)\u001b[0m\u001b[0;34m:\u001b[0m\u001b[0;34m\u001b[0m\u001b[0m\n\u001b[0;32m----> 5\u001b[0;31m     \u001b[0mresults\u001b[0m\u001b[0;34m.\u001b[0m\u001b[0mloc\u001b[0m\u001b[0;34m[\u001b[0m\u001b[0mmodel\u001b[0m\u001b[0;34m]\u001b[0m \u001b[0;34m=\u001b[0m \u001b[0;34m[\u001b[0m\u001b[0mmeasures\u001b[0m\u001b[0;34m[\u001b[0m\u001b[0mmeasure\u001b[0m\u001b[0;34m]\u001b[0m\u001b[0;34m(\u001b[0m\u001b[0my_test\u001b[0m\u001b[0;34m,\u001b[0m \u001b[0mnp\u001b[0m\u001b[0;34m.\u001b[0m\u001b[0mmean\u001b[0m\u001b[0;34m(\u001b[0m\u001b[0mclassifiers\u001b[0m\u001b[0;34m[\u001b[0m\u001b[0mmodel\u001b[0m\u001b[0;34m]\u001b[0m\u001b[0;34m[\u001b[0m\u001b[0mmeasure\u001b[0m\u001b[0;34m]\u001b[0m\u001b[0;34m)\u001b[0m\u001b[0;34m)\u001b[0m \u001b[0;32mfor\u001b[0m \u001b[0mmeasure\u001b[0m \u001b[0;32min\u001b[0m \u001b[0mmeasures\u001b[0m\u001b[0;34m.\u001b[0m\u001b[0mkeys\u001b[0m\u001b[0;34m(\u001b[0m\u001b[0;34m)\u001b[0m\u001b[0;34m]\u001b[0m\u001b[0;34m\u001b[0m\u001b[0m\n\u001b[0m\u001b[1;32m      6\u001b[0m \u001b[0;34m\u001b[0m\u001b[0m\n\u001b[1;32m      7\u001b[0m \u001b[0mresults\u001b[0m\u001b[0;34m\u001b[0m\u001b[0m\n",
      "\u001b[0;32m<ipython-input-110-d930d46ebeca>\u001b[0m in \u001b[0;36m<listcomp>\u001b[0;34m(.0)\u001b[0m\n\u001b[1;32m      3\u001b[0m \u001b[0;31m# Evaluate each model in classifiers\u001b[0m\u001b[0;34m\u001b[0m\u001b[0;34m\u001b[0m\u001b[0m\n\u001b[1;32m      4\u001b[0m \u001b[0;32mfor\u001b[0m \u001b[0mmodel\u001b[0m \u001b[0;32min\u001b[0m \u001b[0mclassifiers\u001b[0m\u001b[0;34m.\u001b[0m\u001b[0mkeys\u001b[0m\u001b[0;34m(\u001b[0m\u001b[0;34m)\u001b[0m\u001b[0;34m:\u001b[0m\u001b[0;34m\u001b[0m\u001b[0m\n\u001b[0;32m----> 5\u001b[0;31m     \u001b[0mresults\u001b[0m\u001b[0;34m.\u001b[0m\u001b[0mloc\u001b[0m\u001b[0;34m[\u001b[0m\u001b[0mmodel\u001b[0m\u001b[0;34m]\u001b[0m \u001b[0;34m=\u001b[0m \u001b[0;34m[\u001b[0m\u001b[0mmeasures\u001b[0m\u001b[0;34m[\u001b[0m\u001b[0mmeasure\u001b[0m\u001b[0;34m]\u001b[0m\u001b[0;34m(\u001b[0m\u001b[0my_test\u001b[0m\u001b[0;34m,\u001b[0m \u001b[0mnp\u001b[0m\u001b[0;34m.\u001b[0m\u001b[0mmean\u001b[0m\u001b[0;34m(\u001b[0m\u001b[0mclassifiers\u001b[0m\u001b[0;34m[\u001b[0m\u001b[0mmodel\u001b[0m\u001b[0;34m]\u001b[0m\u001b[0;34m[\u001b[0m\u001b[0mmeasure\u001b[0m\u001b[0;34m]\u001b[0m\u001b[0;34m)\u001b[0m\u001b[0;34m)\u001b[0m \u001b[0;32mfor\u001b[0m \u001b[0mmeasure\u001b[0m \u001b[0;32min\u001b[0m \u001b[0mmeasures\u001b[0m\u001b[0;34m.\u001b[0m\u001b[0mkeys\u001b[0m\u001b[0;34m(\u001b[0m\u001b[0;34m)\u001b[0m\u001b[0;34m]\u001b[0m\u001b[0;34m\u001b[0m\u001b[0m\n\u001b[0m\u001b[1;32m      6\u001b[0m \u001b[0;34m\u001b[0m\u001b[0m\n\u001b[1;32m      7\u001b[0m \u001b[0mresults\u001b[0m\u001b[0;34m\u001b[0m\u001b[0m\n",
      "\u001b[0;32m/home/stevie/Develop/anaconda3/lib/python3.5/site-packages/sklearn/metrics/classification.py\u001b[0m in \u001b[0;36maccuracy_score\u001b[0;34m(y_true, y_pred, normalize, sample_weight)\u001b[0m\n\u001b[1;32m    170\u001b[0m \u001b[0;34m\u001b[0m\u001b[0m\n\u001b[1;32m    171\u001b[0m     \u001b[0;31m# Compute accuracy for each possible representation\u001b[0m\u001b[0;34m\u001b[0m\u001b[0;34m\u001b[0m\u001b[0m\n\u001b[0;32m--> 172\u001b[0;31m     \u001b[0my_type\u001b[0m\u001b[0;34m,\u001b[0m \u001b[0my_true\u001b[0m\u001b[0;34m,\u001b[0m \u001b[0my_pred\u001b[0m \u001b[0;34m=\u001b[0m \u001b[0m_check_targets\u001b[0m\u001b[0;34m(\u001b[0m\u001b[0my_true\u001b[0m\u001b[0;34m,\u001b[0m \u001b[0my_pred\u001b[0m\u001b[0;34m)\u001b[0m\u001b[0;34m\u001b[0m\u001b[0m\n\u001b[0m\u001b[1;32m    173\u001b[0m     \u001b[0;32mif\u001b[0m \u001b[0my_type\u001b[0m\u001b[0;34m.\u001b[0m\u001b[0mstartswith\u001b[0m\u001b[0;34m(\u001b[0m\u001b[0;34m'multilabel'\u001b[0m\u001b[0;34m)\u001b[0m\u001b[0;34m:\u001b[0m\u001b[0;34m\u001b[0m\u001b[0m\n\u001b[1;32m    174\u001b[0m         \u001b[0mdiffering_labels\u001b[0m \u001b[0;34m=\u001b[0m \u001b[0mcount_nonzero\u001b[0m\u001b[0;34m(\u001b[0m\u001b[0my_true\u001b[0m \u001b[0;34m-\u001b[0m \u001b[0my_pred\u001b[0m\u001b[0;34m,\u001b[0m \u001b[0maxis\u001b[0m\u001b[0;34m=\u001b[0m\u001b[0;36m1\u001b[0m\u001b[0;34m)\u001b[0m\u001b[0;34m\u001b[0m\u001b[0m\n",
      "\u001b[0;32m/home/stevie/Develop/anaconda3/lib/python3.5/site-packages/sklearn/metrics/classification.py\u001b[0m in \u001b[0;36m_check_targets\u001b[0;34m(y_true, y_pred)\u001b[0m\n\u001b[1;32m     70\u001b[0m     \u001b[0my_pred\u001b[0m \u001b[0;34m:\u001b[0m \u001b[0marray\u001b[0m \u001b[0;32mor\u001b[0m \u001b[0mindicator\u001b[0m \u001b[0mmatrix\u001b[0m\u001b[0;34m\u001b[0m\u001b[0m\n\u001b[1;32m     71\u001b[0m     \"\"\"\n\u001b[0;32m---> 72\u001b[0;31m     \u001b[0mcheck_consistent_length\u001b[0m\u001b[0;34m(\u001b[0m\u001b[0my_true\u001b[0m\u001b[0;34m,\u001b[0m \u001b[0my_pred\u001b[0m\u001b[0;34m)\u001b[0m\u001b[0;34m\u001b[0m\u001b[0m\n\u001b[0m\u001b[1;32m     73\u001b[0m     \u001b[0mtype_true\u001b[0m \u001b[0;34m=\u001b[0m \u001b[0mtype_of_target\u001b[0m\u001b[0;34m(\u001b[0m\u001b[0my_true\u001b[0m\u001b[0;34m)\u001b[0m\u001b[0;34m\u001b[0m\u001b[0m\n\u001b[1;32m     74\u001b[0m     \u001b[0mtype_pred\u001b[0m \u001b[0;34m=\u001b[0m \u001b[0mtype_of_target\u001b[0m\u001b[0;34m(\u001b[0m\u001b[0my_pred\u001b[0m\u001b[0;34m)\u001b[0m\u001b[0;34m\u001b[0m\u001b[0m\n",
      "\u001b[0;32m/home/stevie/Develop/anaconda3/lib/python3.5/site-packages/sklearn/utils/validation.py\u001b[0m in \u001b[0;36mcheck_consistent_length\u001b[0;34m(*arrays)\u001b[0m\n\u001b[1;32m    175\u001b[0m     \"\"\"\n\u001b[1;32m    176\u001b[0m \u001b[0;34m\u001b[0m\u001b[0m\n\u001b[0;32m--> 177\u001b[0;31m     \u001b[0mlengths\u001b[0m \u001b[0;34m=\u001b[0m \u001b[0;34m[\u001b[0m\u001b[0m_num_samples\u001b[0m\u001b[0;34m(\u001b[0m\u001b[0mX\u001b[0m\u001b[0;34m)\u001b[0m \u001b[0;32mfor\u001b[0m \u001b[0mX\u001b[0m \u001b[0;32min\u001b[0m \u001b[0marrays\u001b[0m \u001b[0;32mif\u001b[0m \u001b[0mX\u001b[0m \u001b[0;32mis\u001b[0m \u001b[0;32mnot\u001b[0m \u001b[0;32mNone\u001b[0m\u001b[0;34m]\u001b[0m\u001b[0;34m\u001b[0m\u001b[0m\n\u001b[0m\u001b[1;32m    178\u001b[0m     \u001b[0muniques\u001b[0m \u001b[0;34m=\u001b[0m \u001b[0mnp\u001b[0m\u001b[0;34m.\u001b[0m\u001b[0munique\u001b[0m\u001b[0;34m(\u001b[0m\u001b[0mlengths\u001b[0m\u001b[0;34m)\u001b[0m\u001b[0;34m\u001b[0m\u001b[0m\n\u001b[1;32m    179\u001b[0m     \u001b[0;32mif\u001b[0m \u001b[0mlen\u001b[0m\u001b[0;34m(\u001b[0m\u001b[0muniques\u001b[0m\u001b[0;34m)\u001b[0m \u001b[0;34m>\u001b[0m \u001b[0;36m1\u001b[0m\u001b[0;34m:\u001b[0m\u001b[0;34m\u001b[0m\u001b[0m\n",
      "\u001b[0;32m/home/stevie/Develop/anaconda3/lib/python3.5/site-packages/sklearn/utils/validation.py\u001b[0m in \u001b[0;36m<listcomp>\u001b[0;34m(.0)\u001b[0m\n\u001b[1;32m    175\u001b[0m     \"\"\"\n\u001b[1;32m    176\u001b[0m \u001b[0;34m\u001b[0m\u001b[0m\n\u001b[0;32m--> 177\u001b[0;31m     \u001b[0mlengths\u001b[0m \u001b[0;34m=\u001b[0m \u001b[0;34m[\u001b[0m\u001b[0m_num_samples\u001b[0m\u001b[0;34m(\u001b[0m\u001b[0mX\u001b[0m\u001b[0;34m)\u001b[0m \u001b[0;32mfor\u001b[0m \u001b[0mX\u001b[0m \u001b[0;32min\u001b[0m \u001b[0marrays\u001b[0m \u001b[0;32mif\u001b[0m \u001b[0mX\u001b[0m \u001b[0;32mis\u001b[0m \u001b[0;32mnot\u001b[0m \u001b[0;32mNone\u001b[0m\u001b[0;34m]\u001b[0m\u001b[0;34m\u001b[0m\u001b[0m\n\u001b[0m\u001b[1;32m    178\u001b[0m     \u001b[0muniques\u001b[0m \u001b[0;34m=\u001b[0m \u001b[0mnp\u001b[0m\u001b[0;34m.\u001b[0m\u001b[0munique\u001b[0m\u001b[0;34m(\u001b[0m\u001b[0mlengths\u001b[0m\u001b[0;34m)\u001b[0m\u001b[0;34m\u001b[0m\u001b[0m\n\u001b[1;32m    179\u001b[0m     \u001b[0;32mif\u001b[0m \u001b[0mlen\u001b[0m\u001b[0;34m(\u001b[0m\u001b[0muniques\u001b[0m\u001b[0;34m)\u001b[0m \u001b[0;34m>\u001b[0m \u001b[0;36m1\u001b[0m\u001b[0;34m:\u001b[0m\u001b[0;34m\u001b[0m\u001b[0m\n",
      "\u001b[0;32m/home/stevie/Develop/anaconda3/lib/python3.5/site-packages/sklearn/utils/validation.py\u001b[0m in \u001b[0;36m_num_samples\u001b[0;34m(x)\u001b[0m\n\u001b[1;32m    124\u001b[0m         \u001b[0;32mif\u001b[0m \u001b[0mlen\u001b[0m\u001b[0;34m(\u001b[0m\u001b[0mx\u001b[0m\u001b[0;34m.\u001b[0m\u001b[0mshape\u001b[0m\u001b[0;34m)\u001b[0m \u001b[0;34m==\u001b[0m \u001b[0;36m0\u001b[0m\u001b[0;34m:\u001b[0m\u001b[0;34m\u001b[0m\u001b[0m\n\u001b[1;32m    125\u001b[0m             raise TypeError(\"Singleton array %r cannot be considered\"\n\u001b[0;32m--> 126\u001b[0;31m                             \" a valid collection.\" % x)\n\u001b[0m\u001b[1;32m    127\u001b[0m         \u001b[0;32mreturn\u001b[0m \u001b[0mx\u001b[0m\u001b[0;34m.\u001b[0m\u001b[0mshape\u001b[0m\u001b[0;34m[\u001b[0m\u001b[0;36m0\u001b[0m\u001b[0;34m]\u001b[0m\u001b[0;34m\u001b[0m\u001b[0m\n\u001b[1;32m    128\u001b[0m     \u001b[0;32melse\u001b[0m\u001b[0;34m:\u001b[0m\u001b[0;34m\u001b[0m\u001b[0m\n",
      "\u001b[0;31mTypeError\u001b[0m: Singleton array 0.43730650154798761 cannot be considered a valid collection."
     ]
    }
   ],
   "source": [
    "results = pd.DataFrame(columns=measures.keys())\n",
    "\n",
    "# Evaluate each model in classifiers\n",
    "for model in classifiers.keys():\n",
    "    results.loc[model] = [measures[measure](y_test, np.mean(classifiers[model][measure])) for measure in measures.keys()]\n",
    "\n",
    "results"
   ]
  },
  {
   "cell_type": "code",
   "execution_count": 106,
   "metadata": {
    "collapsed": false
   },
   "outputs": [
    {
     "ename": "NameError",
     "evalue": "name 'results' is not defined",
     "output_type": "error",
     "traceback": [
      "\u001b[0;31m---------------------------------------------------------------------------\u001b[0m",
      "\u001b[0;31mNameError\u001b[0m                                 Traceback (most recent call last)",
      "\u001b[0;32m<ipython-input-106-b1d7e270ff2a>\u001b[0m in \u001b[0;36m<module>\u001b[0;34m()\u001b[0m\n\u001b[1;32m      6\u001b[0m \u001b[0max\u001b[0m \u001b[0;34m=\u001b[0m \u001b[0mplt\u001b[0m\u001b[0;34m.\u001b[0m\u001b[0msubplot\u001b[0m\u001b[0;34m(\u001b[0m\u001b[0;36m111\u001b[0m\u001b[0;34m)\u001b[0m\u001b[0;34m\u001b[0m\u001b[0m\n\u001b[1;32m      7\u001b[0m \u001b[0;34m\u001b[0m\u001b[0m\n\u001b[0;32m----> 8\u001b[0;31m \u001b[0mind\u001b[0m \u001b[0;34m=\u001b[0m \u001b[0mnp\u001b[0m\u001b[0;34m.\u001b[0m\u001b[0marange\u001b[0m\u001b[0;34m(\u001b[0m\u001b[0mresults\u001b[0m\u001b[0;34m.\u001b[0m\u001b[0mshape\u001b[0m\u001b[0;34m[\u001b[0m\u001b[0;36m0\u001b[0m\u001b[0;34m]\u001b[0m\u001b[0;34m)\u001b[0m\u001b[0;34m\u001b[0m\u001b[0m\n\u001b[0m\u001b[1;32m      9\u001b[0m \u001b[0mwidth\u001b[0m \u001b[0;34m=\u001b[0m \u001b[0;36m0.2\u001b[0m\u001b[0;34m\u001b[0m\u001b[0m\n\u001b[1;32m     10\u001b[0m \u001b[0ml\u001b[0m \u001b[0;34m=\u001b[0m \u001b[0max\u001b[0m\u001b[0;34m.\u001b[0m\u001b[0mplot\u001b[0m\u001b[0;34m(\u001b[0m\u001b[0mind\u001b[0m\u001b[0;34m,\u001b[0m \u001b[0mresults\u001b[0m\u001b[0;34m,\u001b[0m \u001b[0;34m\"-o\"\u001b[0m\u001b[0;34m)\u001b[0m\u001b[0;34m\u001b[0m\u001b[0m\n",
      "\u001b[0;31mNameError\u001b[0m: name 'results' is not defined"
     ]
    },
    {
     "data": {
      "image/png": "[encoded data removed]",
      "text/plain": [
       "<matplotlib.figure.Figure at 0x7fa3204b8128>"
      ]
     },
     "metadata": {},
     "output_type": "display_data"
    }
   ],
   "source": [
    "from IPython.core.pylabtools import figsize\n",
    "import matplotlib.pyplot as plt\n",
    "import seaborn as sns\n",
    "\n",
    "figsize(10, 5)\n",
    "ax = plt.subplot(111)\n",
    "\n",
    "ind = np.arange(results.shape[0])\n",
    "width = 0.2\n",
    "l = ax.plot(ind, results, \"-o\")\n",
    "plt.legend(iter(l), results.columns.tolist(), loc='center left', bbox_to_anchor=(1, 0.5))\n",
    "ax.set_xlim([-0.25, ind[-1]+.25])\n",
    "ax.set_xticks(ind)\n",
    "ax.set_xticklabels(results.index)\n",
    "plt.show()"
   ]
  },
  {
   "cell_type": "code",
   "execution_count": null,
   "metadata": {
    "collapsed": false
   },
   "outputs": [],
   "source": [
    "X = StandardScaler().fit(X).transform(X)"
   ]
  },
  {
   "cell_type": "code",
   "execution_count": null,
   "metadata": {
    "collapsed": false
   },
   "outputs": [],
   "source": [
    "big.columns"
   ]
  },
  {
   "cell_type": "code",
   "execution_count": null,
   "metadata": {
    "collapsed": true
   },
   "outputs": [],
   "source": [
    "X[]"
   ]
  },
  {
   "cell_type": "code",
   "execution_count": null,
   "metadata": {
    "collapsed": true
   },
   "outputs": [],
   "source": []
  }
 ],
 "metadata": {
  "anaconda-cloud": {},
  "kernelspec": {
   "display_name": "Python [default]",
   "language": "python",
   "name": "python3"
  },
  "language_info": {
   "codemirror_mode": {
    "name": "ipython",
    "version": 3
   },
   "file_extension": ".py",
   "mimetype": "text/x-python",
   "name": "python",
   "nbconvert_exporter": "python",
   "pygments_lexer": "ipython3",
   "version": "3.5.2"
  }
 },
 "nbformat": 4,
 "nbformat_minor": 1
}
