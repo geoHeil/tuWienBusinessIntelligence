{
 "cells": [
  {
   "cell_type": "code",
   "execution_count": 130,
   "metadata": {
    "collapsed": false
   },
   "outputs": [],
   "source": [
    "import numpy as np\n",
    "import pandas as pd\n",
    "\n",
    "import matplotlib.pyplot as plt\n",
    "\n",
    "import utils\n",
    "import skutils\n",
    "from sklearn.preprocessing import StandardScaler, MinMaxScaler, RobustScaler\n",
    "from sklearn.model_selection import StratifiedShuffleSplit, cross_val_score\n",
    "from sklearn.metrics import classification_report\n",
    "from sklearn.linear_model import LogisticRegression\n",
    "from sklearn.ensemble import RandomForestClassifier\n",
    "\n",
    "seed = 47\n",
    "\n",
    "# Use ggplot style\n",
    "plt.style.use('ggplot')\n",
    "\n",
    "%matplotlib inline"
   ]
  },
  {
   "cell_type": "code",
   "execution_count": 2,
   "metadata": {
    "collapsed": false
   },
   "outputs": [],
   "source": [
    "train = pd.read_csv('train.csv')\n",
    "test = pd.read_csv('test.csv')"
   ]
  },
  {
   "cell_type": "code",
   "execution_count": 35,
   "metadata": {
    "collapsed": false
   },
   "outputs": [],
   "source": [
    "big = train.append(test)\n",
    "big.shape\n",
    "\n",
    "big.species = big.species.astype('category')\n",
    "big.species = big.species.cat.codes\n",
    "\n",
    "# big = pd.get_dummies(big, sparse=True)"
   ]
  },
  {
   "cell_type": "code",
   "execution_count": 36,
   "metadata": {
    "collapsed": false
   },
   "outputs": [],
   "source": [
    "def transform(data):\n",
    "    ID = data.id\n",
    "    X = data.drop(['species', 'id'], axis=1)\n",
    "    y = data['species']\n",
    "    return ID, X, y\n",
    "\n",
    "ID, X, y = transform(big)"
   ]
  },
  {
   "cell_type": "code",
   "execution_count": 37,
   "metadata": {
    "collapsed": false
   },
   "outputs": [],
   "source": [
    "def addZeroColumn(df, colName):\n",
    "    df.loc[df[colName] < 0.01, colName + '_is_small'] = 1\n",
    "    df[colName + '_is_small'].fillna(0, inplace=True)\n",
    "\n",
    "def addZeroColumns(df, colBaseName):\n",
    "    for n in range(1,65):\n",
    "        addZeroColumn(df, colBaseName + str(n))\n",
    "        \n",
    "addZeroColumns(X, 'margin')\n",
    "addZeroColumns(X, 'texture')"
   ]
  },
  {
   "cell_type": "code",
   "execution_count": null,
   "metadata": {
    "collapsed": true
   },
   "outputs": [],
   "source": [
    "classifiers = {\n",
    "        \"LR\": { \"f\": LogisticRegression(solver='lbfgs', multi_class='multinomial', n_jobs=-1) },\n",
    "        \"LR_std\": { \"f\": Pipeline([\n",
    "                    ('scaling', StandardScaler()),\n",
    "                    ('estimator', LogisticRegression(solver='lbfgs', multi_class='multinomial', n_jobs=-1))\n",
    "                ]) },\n",
    "        \"LR_mm\": { \"f\": Pipeline([\n",
    "                    ('scaling', MinMaxScaler()),\n",
    "                    ('estimator', LogisticRegression(solver='lbfgs', multi_class='multinomial', n_jobs=-1))\n",
    "                ]) },\n",
    "        \"LR_rob\": { \"f\": Pipeline([\n",
    "                    ('scaling', RobustScaler()),\n",
    "                    ('estimator', LogisticRegression(solver='lbfgs', multi_class='multinomial', n_jobs=-1))\n",
    "                ]) },\n",
    "        \"RF\": { \"f\": RandomForestClassifier(n_estimators=100, n_jobs=-1) },\n",
    "        \"RF_std\": { \"f\": Pipeline([\n",
    "                    ('scaling', StandardScaler()),\n",
    "                    ('estimator', RandomForestClassifier(n_estimators=100, n_jobs=-1))\n",
    "                ]) },\n",
    "        \"RF_mm\": { \"f\": Pipeline([\n",
    "                    ('scaling', MinMaxScaler()),\n",
    "                    ('estimator', RandomForestClassifier(n_estimators=100, n_jobs=-1))\n",
    "                ]) },\n",
    "        \"RF_rob\": { \"f\": Pipeline([\n",
    "                    ('scaling', RobustScaler()),\n",
    "                    ('estimator', RandomForestClassifier(n_estimators=100, n_jobs=-1))\n",
    "                ]) }\n",
    "    }  "
   ]
  },
  {
   "cell_type": "code",
   "execution_count": null,
   "metadata": {
    "collapsed": false,
    "scrolled": true
   },
   "outputs": [],
   "source": [
    "def test_split(test_size):\n",
    "    sss = StratifiedShuffleSplit(10, test_size=0.3, random_state=seed)\n",
    "\n",
    "    from sklearn.metrics import accuracy_score, precision_score, classification_report, recall_score, cohen_kappa_score, auc, make_scorer, average_precision_score, f1_score\n",
    "    from sklearn.pipeline import Pipeline\n",
    "\n",
    "    classifiers = {\n",
    "        \"LR_std\": { \"f\": Pipeline([\n",
    "                    ('scaling', StandardScaler()),\n",
    "                    ('estimator', LogisticRegression(solver='lbfgs', multi_class='multinomial', n_jobs=-1))\n",
    "                ]) },\n",
    "        \"RF\": { \"f\": RandomForestClassifier(n_estimators=100, n_jobs=-1) },\n",
    "    }   \n",
    "\n",
    "    measures = {\n",
    "        'pre': precision_score,\n",
    "        #'avg': average_precision_score,\n",
    "        'rec': recall_score,\n",
    "        'acc': accuracy_score,\n",
    "        'ck': cohen_kappa_score,\n",
    "        'f1': f1_score\n",
    "    }\n",
    "\n",
    "    for clf in classifiers.keys(): \n",
    "        c = classifiers[clf]   \n",
    "        for meas in measures.keys():\n",
    "            c[meas] = []\n",
    "\n",
    "    for train_index, test_index in sss.split(X, y):\n",
    "\n",
    "        X_train = X.iloc[train_index]\n",
    "        y_train = y.iloc[train_index]\n",
    "        X_test = X.iloc[test_index]\n",
    "        y_test = y.iloc[test_index]\n",
    "\n",
    "        for clf in classifiers.keys():                    \n",
    "            c = classifiers[clf]    \n",
    "            c[\"f\"].fit(X_train, y_train)\n",
    "            y_pred = c[\"f\"].predict(X_test)\n",
    "            #print(classification_report(y_test, y_pred))\n",
    "\n",
    "            for meas in measures.keys():\n",
    "                m = measures[meas]\n",
    "\n",
    "                if (meas != 'ck' and meas != 'acc'):\n",
    "                    score = m(y_test, y_pred, average='micro')\n",
    "                else:\n",
    "                    score = m(y_test, y_pred)\n",
    "\n",
    "                c[meas].append(score);\n",
    "    \n",
    "    return classifiers\n",
    "               \n",
    "cl = []\n",
    "    \n",
    "for i in range(0,9):\n",
    "    cl.append(test_split(0.1 + 0.1 * i))"
   ]
  },
  {
   "cell_type": "code",
   "execution_count": null,
   "metadata": {
    "collapsed": false,
    "scrolled": true
   },
   "outputs": [],
   "source": [
    "classifiers"
   ]
  },
  {
   "cell_type": "code",
   "execution_count": 119,
   "metadata": {
    "collapsed": false,
    "scrolled": true
   },
   "outputs": [
    {
     "data": {
      "image/png": "[encoded data removed]",
      "text/plain": [
       "<matplotlib.figure.Figure at 0x7fa3163d9c50>"
      ]
     },
     "metadata": {},
     "output_type": "display_data"
    }
   ],
   "source": [
    "from IPython.core.pylabtools import figsize\n",
    "import matplotlib.pyplot as plt\n",
    "import seaborn as sns\n",
    "\n",
    "for i in range(0,10):\n",
    "    results = pd.DataFrame(columns=measures.keys())\n",
    "\n",
    "    # Evaluate each model in classifiers\n",
    "    for model in classifiers.keys():\n",
    "        results.loc[model] = [np.mean(cl[i][model][measure]) for measure in measures.keys()]\n",
    "\n",
    "    figsize(10, 5)\n",
    "    ax = plt.subplot(111)\n",
    "\n",
    "    ind = np.arange(results.shape[0])\n",
    "    width = 0.2\n",
    "    l = ax.plot(ind, results, \"-o\")\n",
    "    plt.legend(iter(l), results.columns.tolist(), loc='center left', bbox_to_anchor=(1, 0.5))\n",
    "    ax.set_xlim([-0.25, ind[-1]+.25])\n",
    "    ax.set_xticks(ind)\n",
    "    ax.set_xticklabels(results.index)\n",
    "    plt.show()"
   ]
  },
  {
   "cell_type": "code",
   "execution_count": null,
   "metadata": {
    "collapsed": false
   },
   "outputs": [],
   "source": [
    "X = StandardScaler().fit(X).transform(X)"
   ]
  },
  {
   "cell_type": "code",
   "execution_count": null,
   "metadata": {
    "collapsed": false
   },
   "outputs": [],
   "source": [
    "big.columns"
   ]
  },
  {
   "cell_type": "code",
   "execution_count": null,
   "metadata": {
    "collapsed": true
   },
   "outputs": [],
   "source": [
    "X[]"
   ]
  },
  {
   "cell_type": "code",
   "execution_count": null,
   "metadata": {
    "collapsed": true
   },
   "outputs": [],
   "source": []
  }
 ],
 "metadata": {
  "anaconda-cloud": {},
  "kernelspec": {
   "display_name": "Python [default]",
   "language": "python",
   "name": "python3"
  },
  "language_info": {
   "codemirror_mode": {
    "name": "ipython",
    "version": 3
   },
   "file_extension": ".py",
   "mimetype": "text/x-python",
   "name": "python",
   "nbconvert_exporter": "python",
   "pygments_lexer": "ipython3",
   "version": "3.5.2"
  }
 },
 "nbformat": 4,
 "nbformat_minor": 1
}
