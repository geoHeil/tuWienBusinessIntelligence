{
 "cells": [
  {
   "cell_type": "markdown",
   "metadata": {},
   "source": [
    "# BI UE 1\n",
    "\n",
    "## Group members\n",
    "- Georg Heiler 1225063\n",
    "- Stefan Bayer\n",
    "\n",
    "# A - characteristics of the dataset\n",
    "We use the dataset from: https://www.kaggle.com/c/leaf-classification\n",
    "The idea is to automate plant recognition. The data consists of binary leaf images and extracted features, including shape, margin & texture, to accurately identify 99 species of plants.\n",
    "\n",
    "## characteristics of the extracted features \n",
    "The following numbers are for the training data set\n",
    "- Number of features\t194\n",
    "- Number of categorical features\t1\n",
    "- Number of numerical features\t193\n",
    "- Number of Samples\t990\n",
    "- Target variable contains 99 different species\n",
    "\n",
    "The test data set contains 594 additional instances. All in all the minimum requirements for the dataset are fulfilled.\n",
    "\n",
    "A detailed description of mean / min values or value ranges can be found in `01_firstAnalysisOfTheData.ipynb`, including histograms. In general:\n",
    "\n",
    "> TODO describe them more \n",
    "\n",
    "## characteristics of the images\n",
    "\n",
    "> TODO"
   ]
  },
  {
   "cell_type": "markdown",
   "metadata": {
    "collapsed": true
   },
   "source": [
    "# B Classification: Analysis of Train/Test Set Splits, Performance and Parameters\n",
    "## Selection of algorithms\n",
    "- logistic regression (only extracted features)\n",
    "- random forest (only extracted features)\n",
    "- deeplearning (additional features from the original images)"
   ]
  },
  {
   "cell_type": "markdown",
   "metadata": {},
   "source": [
    "# C Missing Values"
   ]
  },
  {
   "cell_type": "code",
   "execution_count": null,
   "metadata": {
    "collapsed": true
   },
   "outputs": [],
   "source": []
  }
 ],
 "metadata": {
  "kernelspec": {
   "display_name": "Python 3",
   "language": "python",
   "name": "python3"
  },
  "language_info": {
   "codemirror_mode": {
    "name": "ipython",
    "version": 3
   },
   "file_extension": ".py",
   "mimetype": "text/x-python",
   "name": "python",
   "nbconvert_exporter": "python",
   "pygments_lexer": "ipython3",
   "version": "3.5.2"
  }
 },
 "nbformat": 4,
 "nbformat_minor": 1
}
