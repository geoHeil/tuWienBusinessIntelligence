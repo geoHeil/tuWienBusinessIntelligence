{
 "cells": [
  {
   "cell_type": "markdown",
   "metadata": {},
   "source": [
    "# BI UE 1\n",
    "\n",
    "## Group members\n",
    "- Georg Heiler 1225063\n",
    "- Stefan Beyer 1225423\n",
    "\n",
    "# A - characteristics of the dataset\n",
    "We use the dataset from: https://www.kaggle.com/c/leaf-classification\n",
    "The idea is to automate plant recognition. The data consists of binary leaf images and extracted features, including shape, margin & texture, to accurately identify 99 species of plants.\n",
    "\n",
    "## characteristics of the extracted features \n",
    "The following numbers are for the training data set\n",
    "- Number of features\t194\n",
    "- Number of categorical features\t1\n",
    "- Number of numerical features\t193\n",
    "- Number of Samples\t990\n",
    "- Target variable contains 99 different species\n",
    "\n",
    "The test data set contains 594 additional instances. All in all the minimum requirements for the dataset are fulfilled.\n",
    "\n",
    "A detailed description of mean / min values or value ranges can be found in `01_firstAnalysisOfTheData.ipynb`, including histograms. In general:\n",
    "\n",
    "- id\n",
    "    - ID of the images from which the features were extracted\n",
    "    - Range: [1,1584]\n",
    "- marginN (1-64)\n",
    "    - Numerical\n",
    "    - Range (approximately): [0,0.3]\n",
    "    - Many outliers\n",
    "- shapeN (1-64)\n",
    "    - Numerical\n",
    "    - Range (approximately): [0,0.003]\n",
    "    - Few outliers\n",
    "- textureN (1-64)\n",
    "    - Numerical\n",
    "    - Range (approximately): [0,0.43]\n",
    "    - Few outliers\n",
    "- species\n",
    "    - Categorical\n",
    "    - 99 unique values\n",
    "    \n",
    "The dataset does not contain any missing values and is not sparse.\n",
    "\n",
    "## characteristics of the images\n",
    "\n",
    "> TODO"
   ]
  },
  {
   "cell_type": "markdown",
   "metadata": {
    "collapsed": true
   },
   "source": [
    "# B Classification: Analysis of Train/Test Set Splits, Performance and Parameters\n",
    "## Selection of algorithms\n",
    "\n",
    "> TODO: describe parameters and characteristics\n",
    "\n",
    "- Logistic regression (only extracted features): results are easy to interpret, fast\n",
    "- Random forest (only extracted features): popular, no scaling needed, very robust\n",
    "- Deeplearning (additional features from the original images)\n",
    "\n",
    "## Preprocessing\n",
    "\n",
    "### Scaling\n",
    "marginN, scaleN and textureN will be scaled. For marginN and textureN we will introduce a new column with binary values which will be 1 if the value of marginN/textureN is nearly 0.\n",
    "\n",
    "## Subsampling\n",
    "We will process the entire dataset, as it only contains about 1000 datasets.\n",
    "\n"
   ]
  },
  {
   "cell_type": "markdown",
   "metadata": {},
   "source": [
    "# C Missing Values"
   ]
  },
  {
   "cell_type": "code",
   "execution_count": null,
   "metadata": {
    "collapsed": true
   },
   "outputs": [],
   "source": []
  }
 ],
 "metadata": {
  "anaconda-cloud": {},
  "kernelspec": {
   "display_name": "Python [default]",
   "language": "python",
   "name": "python3"
  },
  "language_info": {
   "codemirror_mode": {
    "name": "ipython",
    "version": 3
   },
   "file_extension": ".py",
   "mimetype": "text/x-python",
   "name": "python",
   "nbconvert_exporter": "python",
   "pygments_lexer": "ipython3",
   "version": "3.5.2"
  }
 },
 "nbformat": 4,
 "nbformat_minor": 1
}
