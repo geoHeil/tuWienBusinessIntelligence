{
 "cells": [
  {
   "cell_type": "code",
   "execution_count": 1,
   "metadata": {
    "collapsed": false
   },
   "outputs": [
    {
     "name": "stderr",
     "output_type": "stream",
     "text": [
      "/home/stevie/Develop/anaconda3/lib/python3.5/site-packages/sklearn/cross_validation.py:44: DeprecationWarning: This module was deprecated in version 0.18 in favor of the model_selection module into which all the refactored classes and functions are moved. Also note that the interface of the new CV iterators are different from that of this module. This module will be removed in 0.20.\n",
      "  \"This module will be removed in 0.20.\", DeprecationWarning)\n"
     ]
    }
   ],
   "source": [
    "import numpy as np\n",
    "import pandas as pd\n",
    "\n",
    "import matplotlib.pyplot as plt\n",
    "\n",
    "import utils\n",
    "import skutils\n",
    "from sklearn.preprocessing import StandardScaler, MinMaxScaler, RobustScaler, Imputer\n",
    "from sklearn.model_selection import StratifiedShuffleSplit, cross_val_score\n",
    "from sklearn.metrics import classification_report\n",
    "from sklearn.linear_model import LogisticRegression\n",
    "from sklearn.ensemble import RandomForestClassifier\n",
    "\n",
    "seed = 47\n",
    "\n",
    "# Use ggplot style\n",
    "plt.style.use('ggplot')\n",
    "\n",
    "%matplotlib inline"
   ]
  },
  {
   "cell_type": "code",
   "execution_count": 2,
   "metadata": {
    "collapsed": true
   },
   "outputs": [],
   "source": [
    "train = pd.read_csv('train.csv')\n",
    "\n",
    "big = train\n",
    "big.species = big.species.astype('category')\n",
    "big.species = big.species.cat.codes\n",
    "\n",
    "big.species\n",
    "\n",
    "def transform(data):\n",
    "    ID = data.id\n",
    "    X = data.drop(['species', 'id'], axis=1)\n",
    "    y = data['species']\n",
    "    return ID, X, y\n",
    "\n",
    "ID, X, y = transform(big)"
   ]
  },
  {
   "cell_type": "code",
   "execution_count": 3,
   "metadata": {
    "collapsed": false
   },
   "outputs": [],
   "source": [
    "def remove_values_attribute(df, attribute, percentage):\n",
    "    df = df.copy()\n",
    "    df.loc[df.sample(n=int(percentage * df.shape[0]), random_state=seed).index, attribute] = None\n",
    "    return df\n",
    "    \n",
    "def remove_values(df, percentage):\n",
    "    np.random.seed(seed)\n",
    "    df = df.copy()\n",
    "    for i in df.sample(n=int(percentage * df.shape[0]), random_state=seed).index:\n",
    "        j = np.random.randint(df.shape[1])\n",
    "        df.loc[i,df.columns[j]] = None\n",
    "    return df\n",
    "    \n",
    "    \n",
    "X1 = remove_values_attribute(X, 'margin5', 0.1)\n",
    "X2 = remove_values_attribute(X, 'margin5', 0.6)\n",
    "X3 = remove_values_attribute(X, 'shape1', 0.6)\n",
    "X4 = remove_values_attribute(X, 'shape1', 0.1)\n",
    "\n",
    "X5 = remove_values(X, 0.1)\n",
    "X6 = remove_values(X, 0.6)\n",
    "\n",
    "Xn = {\n",
    "    'margin5_low': {\n",
    "        'original': X1\n",
    "    },\n",
    "    'margin5_high': {\n",
    "        'original': X2\n",
    "    },\n",
    "    'shape1_low': {\n",
    "        'original': X3\n",
    "    },\n",
    "    'shape1_high': {\n",
    "        'original': X4\n",
    "    },\n",
    "    'all_low': {\n",
    "        'original': X5\n",
    "    },\n",
    "    'all_high':{\n",
    "        'original': X6\n",
    "    },\n",
    "}"
   ]
  },
  {
   "cell_type": "code",
   "execution_count": 16,
   "metadata": {
    "collapsed": false
   },
   "outputs": [],
   "source": [
    "def ignore_missing(df):\n",
    "    return df.dropna(axis=1)\n",
    "\n",
    "def replace_by_totalmean(df):\n",
    "    return Imputer(axis=1).fit_transform(df)\n",
    "\n",
    "def replace_by_classmean(X, y):    \n",
    "    df = pd.concat([y,X], axis=1)\n",
    "    \n",
    "    for col in X.columns[X.isnull().any()].tolist():\n",
    "        grouped = df.groupby(['species'])[col]\n",
    "        df = df.merge(grouped.mean().to_frame().reset_index(), left_on='species', right_on='species', how='inner')\n",
    "\n",
    "        df[col] = df[col + '_x']\n",
    "        df[col] = df[col].fillna(df[col + '_y'])\n",
    "        df = df.drop([col + '_x', col + '_y'], axis=1)\n",
    "    \n",
    "    return df.drop('species', axis=1)"
   ]
  },
  {
   "cell_type": "code",
   "execution_count": 19,
   "metadata": {
    "collapsed": false,
    "scrolled": true
   },
   "outputs": [],
   "source": [
    "for k in Xn.keys():\n",
    "    Xi = Xn[k]\n",
    "    Xi['ignore'] = ignore_missing(Xi['original'])\n",
    "    Xi['totalmean'] = replace_by_totalmean(Xi['original'])\n",
    "    Xi['classmean'] = replace_by_classmean(Xi['original'], y)"
   ]
  },
  {
   "cell_type": "code",
   "execution_count": null,
   "metadata": {
    "collapsed": true
   },
   "outputs": [],
   "source": []
  }
 ],
 "metadata": {
  "anaconda-cloud": {},
  "kernelspec": {
   "display_name": "Python [default]",
   "language": "python",
   "name": "python3"
  },
  "language_info": {
   "codemirror_mode": {
    "name": "ipython",
    "version": 3
   },
   "file_extension": ".py",
   "mimetype": "text/x-python",
   "name": "python",
   "nbconvert_exporter": "python",
   "pygments_lexer": "ipython3",
   "version": "3.5.2"
  }
 },
 "nbformat": 4,
 "nbformat_minor": 1
}
